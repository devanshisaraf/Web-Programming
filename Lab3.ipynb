{
 "cells": [
  {
   "cell_type": "code",
   "execution_count": 4,
   "id": "e40eb1df-fda4-41e6-983c-1323d7e41071",
   "metadata": {},
   "outputs": [
    {
     "name": "stdin",
     "output_type": "stream",
     "text": [
      "Enter numbers:  58 41 11 65 33 98 25 10 74\n"
     ]
    },
    {
     "name": "stdout",
     "output_type": "stream",
     "text": [
      "Mean: 46.111111111111114, Variance: 794.320987654321, Std Dev: 28.183700744478553\n"
     ]
    }
   ],
   "source": [
    "import math\n",
    "nums = list(map(int, input(\"Enter numbers: \").split()))\n",
    "mean = sum(nums) / len(nums)\n",
    "variance = sum((x - mean) ** 2 for x in nums) / len(nums)\n",
    "std_dev = math.sqrt(variance)\n",
    "print(f\"Mean: {mean}, Variance: {variance}, Std Dev: {std_dev}\")"
   ]
  },
  {
   "cell_type": "code",
   "execution_count": 5,
   "id": "1f88a543-331c-4bf3-b7bc-1e793ca29530",
   "metadata": {},
   "outputs": [
    {
     "name": "stdin",
     "output_type": "stream",
     "text": [
      "Enter number of students:  3\n",
      "Enter Name:  Devanshi Saraf\n",
      "Enter Roll No:  3\n",
      "Enter Department:  CSE\n",
      "Enter Address:  Kolkata\n",
      "Enter Gender (M/F):  F\n",
      "Enter marks for subject 1:  89\n",
      "Enter marks for subject 2:  96\n",
      "Enter marks for subject 3:  90\n",
      "Enter Name:  Aditi Talpallikar\n",
      "Enter Roll No:  25\n",
      "Enter Department:  CSE\n",
      "Enter Address:  Hyderabad\n",
      "Enter Gender (M/F):  F\n",
      "Enter marks for subject 1:  96\n",
      "Enter marks for subject 2:  85\n",
      "Enter marks for subject 3:  90\n",
      "Enter Name:  Srijina Dasgupta\n",
      "Enter Roll No:  12\n",
      "Enter Department:  CSE\n",
      "Enter Address:  Mumbai\n",
      "Enter Gender (M/F):  F\n",
      "Enter marks for subject 1:  93\n",
      "Enter marks for subject 2:  84\n",
      "Enter marks for subject 3:  88\n"
     ]
    },
    {
     "name": "stdout",
     "output_type": "stream",
     "text": [
      "\n",
      "Name: Devanshi Saraf, Roll No: 3, Dept: CSE, Address: Kolkata, Gender: F, Marks: [89.0, 96.0, 90.0], Total: 275.0, Percentage: 91.67%\n",
      "\n",
      "Name: Aditi Talpallikar, Roll No: 25, Dept: CSE, Address: Hyderabad, Gender: F, Marks: [96.0, 85.0, 90.0], Total: 271.0, Percentage: 90.33%\n",
      "\n",
      "Name: Srijina Dasgupta, Roll No: 12, Dept: CSE, Address: Mumbai, Gender: F, Marks: [93.0, 84.0, 88.0], Total: 265.0, Percentage: 88.33%\n",
      "\n",
      "Top Scorer: Devanshi Saraf (275.0 marks)\n",
      "Lowest Scorer: Srijina Dasgupta (265.0 marks)\n",
      "Failing Students: None\n"
     ]
    }
   ],
   "source": [
    "students = [{\n",
    "    \"name\": input(\"Enter Name: \"),\n",
    "    \"roll_no\": input(\"Enter Roll No: \"),\n",
    "    \"dept\": input(\"Enter Department: \"),\n",
    "    \"address\": input(\"Enter Address: \"),\n",
    "    \"gender\": input(\"Enter Gender (M/F): \"),\n",
    "    \"marks\": [float(input(f\"Enter marks for subject {i+1}: \")) for i in range(3)]\n",
    "} for _ in range(int(input(\"Enter number of students: \")))]\n",
    "\n",
    "for s in students:\n",
    "    s[\"total\"] = sum(s[\"marks\"])\n",
    "    s[\"percentage\"] = s[\"total\"] / 3\n",
    "\n",
    "for s in students:\n",
    "    print(f\"\\nName: {s['name']}, Roll No: {s['roll_no']}, Dept: {s['dept']}, Address: {s['address']}, \"\n",
    "          f\"Gender: {s['gender']}, Marks: {s['marks']}, Total: {s['total']}, Percentage: {s['percentage']:.2f}%\")\n",
    "\n",
    "max_student = max(students, key=lambda s: s[\"total\"])\n",
    "min_student = min(students, key=lambda s: s[\"total\"])\n",
    "fail_students = [s[\"name\"] for s in students if any(m < 10 for m in s[\"marks\"])]\n",
    "\n",
    "print(f\"\\nTop Scorer: {max_student['name']} ({max_student['total']} marks)\")\n",
    "print(f\"Lowest Scorer: {min_student['name']} ({min_student['total']} marks)\")\n",
    "print(f\"Failing Students: {', '.join(fail_students) if fail_students else 'None'}\")\n"
   ]
  },
  {
   "cell_type": "code",
   "execution_count": 6,
   "id": "5b55982d-4cb5-4ead-9620-a3e67b0a5975",
   "metadata": {},
   "outputs": [
    {
     "name": "stdout",
     "output_type": "stream",
     "text": [
      "Top 10 most frequently appearing words:\n",
      "i: 38\n",
      "the: 31\n",
      "to: 27\n",
      "a: 26\n",
      "you: 25\n",
      "and: 13\n",
      "of: 11\n",
      "me: 10\n",
      "i’m: 9\n",
      "your: 9\n"
     ]
    }
   ],
   "source": [
    "with open(\"input.txt\", \"r\", encoding=\"utf-8\") as file:\n",
    "    words = file.read().lower().split()  # Convert to lowercase and split into words\n",
    "\n",
    "word_count = {}\n",
    "for word in words:\n",
    "    word_count[word] = word_count.get(word, 0) + 1  # Increment count\n",
    "\n",
    "top_words = sorted(word_count.items(), key=lambda x: x[1], reverse=True)[:10]\n",
    "\n",
    "print(\"Top 10 most frequently appearing words:\")\n",
    "for word, count in top_words:\n",
    "    print(f\"{word}: {count}\")\n"
   ]
  },
  {
   "cell_type": "code",
   "execution_count": 7,
   "id": "05f989af-9476-419e-b16b-0a2f6c203ab4",
   "metadata": {},
   "outputs": [
    {
     "name": "stdout",
     "output_type": "stream",
     "text": [
      "File contents sorted and saved to 'sorted_output.txt'\n"
     ]
    }
   ],
   "source": [
    "with open(\"input.txt\", \"r\", encoding=\"utf-8\") as file:\n",
    "    lines = [line.strip() for line in file.readlines()]\n",
    "\n",
    "lines.sort()\n",
    "\n",
    "with open(\"sorted_output.txt\", \"w\", encoding=\"utf-8\") as file:\n",
    "    file.write(\"\\n\".join(lines))\n",
    "\n",
    "print(\"File contents sorted and saved to 'sorted_output.txt'\")"
   ]
  },
  {
   "cell_type": "code",
   "execution_count": null,
   "id": "95c490c6-18e4-44bd-8685-d2522727cc31",
   "metadata": {},
   "outputs": [],
   "source": []
  }
 ],
 "metadata": {
  "kernelspec": {
   "display_name": "Python 3 (ipykernel)",
   "language": "python",
   "name": "python3"
  },
  "language_info": {
   "codemirror_mode": {
    "name": "ipython",
    "version": 3
   },
   "file_extension": ".py",
   "mimetype": "text/x-python",
   "name": "python",
   "nbconvert_exporter": "python",
   "pygments_lexer": "ipython3",
   "version": "3.12.2"
  }
 },
 "nbformat": 4,
 "nbformat_minor": 5
}

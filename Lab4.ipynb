{
 "cells": [
  {
   "cell_type": "code",
   "execution_count": 2,
   "id": "d50dc01b-8624-43c0-9d82-47726ea8020b",
   "metadata": {},
   "outputs": [
    {
     "name": "stdin",
     "output_type": "stream",
     "text": [
      "Enter distinct integers separated by space:  5 12 32 4\n"
     ]
    },
    {
     "name": "stdout",
     "output_type": "stream",
     "text": [
      "Unique subsets: [[], [5], [12], [5, 12], [32], [5, 32], [12, 32], [5, 12, 32], [4], [5, 4], [12, 4], [5, 12, 4], [32, 4], [5, 32, 4], [12, 32, 4], [5, 12, 32, 4]]\n"
     ]
    }
   ],
   "source": [
    "def generate_subsets(nums):\n",
    "    subsets = [[]]\n",
    "    for num in nums:\n",
    "        subsets += [item + [num] for item in subsets]\n",
    "    return subsets\n",
    "\n",
    "nums = list(map(int, input(\"Enter distinct integers separated by space: \").split()))\n",
    "subsets = generate_subsets(nums)\n",
    "\n",
    "print(\"Unique subsets:\", subsets)"
   ]
  },
  {
   "cell_type": "code",
   "execution_count": 3,
   "id": "fa193179-64f7-473d-8e0e-b02628ae7c08",
   "metadata": {},
   "outputs": [
    {
     "name": "stdin",
     "output_type": "stream",
     "text": [
      "Enter numbers separated by space:  12 55 98 16 21 96\n",
      "Enter the target sum:  28\n"
     ]
    },
    {
     "name": "stdout",
     "output_type": "stream",
     "text": [
      "Pair indices: [0, 3]\n"
     ]
    }
   ],
   "source": [
    "def find_pair(nums, target):\n",
    "    for i in range(len(nums)):\n",
    "        for j in range(i+1, len(nums)):\n",
    "            if nums[i] + nums[j] == target:\n",
    "                return [i, j]\n",
    "    return None\n",
    "\n",
    "nums = list(map(int, input(\"Enter numbers separated by space: \").split()))\n",
    "target = int(input(\"Enter the target sum: \"))\n",
    "\n",
    "result = find_pair(nums, target)\n",
    "\n",
    "if result:\n",
    "    print(f\"Pair indices: {result}\")\n",
    "else:\n",
    "    print(\"No pair found.\")"
   ]
  },
  {
   "cell_type": "code",
   "execution_count": 4,
   "id": "babce86b-190b-494d-b3ab-47199e6879e5",
   "metadata": {},
   "outputs": [
    {
     "name": "stdin",
     "output_type": "stream",
     "text": [
      "\n",
      "1. Add Item\n",
      "2. Update Item\n",
      "3. Check Item Details\n",
      "4. Exit\n",
      "Choose an option:  1\n",
      "Enter Item ID:  1254\n",
      "Enter Item Name:  Dairy Milk Silk\n",
      "Enter Stock Count:  25\n",
      "Enter Price:  85\n",
      "\n",
      "1. Add Item\n",
      "2. Update Item\n",
      "3. Check Item Details\n",
      "4. Exit\n",
      "Choose an option:  1\n",
      "Enter Item ID:  1243\n",
      "Enter Item Name:  Geki Korean Noodles\n",
      "Enter Stock Count:  12\n",
      "Enter Price:  45\n",
      "\n",
      "1. Add Item\n",
      "2. Update Item\n",
      "3. Check Item Details\n",
      "4. Exit\n",
      "Choose an option:  3\n",
      "Enter Item ID to check details:  1254\n"
     ]
    },
    {
     "name": "stdout",
     "output_type": "stream",
     "text": [
      "Item ID: 1254, Name: Dairy Milk Silk, Stock Count: 25, Price: 85.0\n"
     ]
    },
    {
     "name": "stdin",
     "output_type": "stream",
     "text": [
      "\n",
      "1. Add Item\n",
      "2. Update Item\n",
      "3. Check Item Details\n",
      "4. Exit\n",
      "Choose an option:  2\n",
      "Enter Item ID to update:  1243\n",
      "Enter new Item Name (leave blank to keep current):  \n",
      "Enter new Stock Count (leave blank to keep current):  15\n",
      "Enter new Price (leave blank to keep current):  \n",
      "\n",
      "1. Add Item\n",
      "2. Update Item\n",
      "3. Check Item Details\n",
      "4. Exit\n",
      "Choose an option:  3\n",
      "Enter Item ID to check details:  1243\n"
     ]
    },
    {
     "name": "stdout",
     "output_type": "stream",
     "text": [
      "Item ID: 1243, Name: Geki Korean Noodles, Stock Count: 15, Price: 45.0\n"
     ]
    },
    {
     "name": "stdin",
     "output_type": "stream",
     "text": [
      "\n",
      "1. Add Item\n",
      "2. Update Item\n",
      "3. Check Item Details\n",
      "4. Exit\n",
      "Choose an option:  4\n"
     ]
    }
   ],
   "source": [
    "class Inventory:\n",
    "    def __init__(self):\n",
    "        self.items = {}\n",
    "\n",
    "    def add_item(self, item_id, item_name, stock_count, price):\n",
    "        self.items[item_id] = {'item_name': item_name, 'stock_count': stock_count, 'price': price}\n",
    "\n",
    "    def update_item(self, item_id, item_name=None, stock_count=None, price=None):\n",
    "        if item_id in self.items:\n",
    "            item = self.items[item_id]\n",
    "            if item_name: item['item_name'] = item_name\n",
    "            if stock_count is not None: item['stock_count'] = stock_count\n",
    "            if price is not None: item['price'] = price\n",
    "\n",
    "    def check_item_details(self, item_id):\n",
    "        item = self.items.get(item_id)\n",
    "        if item:\n",
    "            print(f\"Item ID: {item_id}, Name: {item['item_name']}, Stock Count: {item['stock_count']}, Price: {item['price']}\")\n",
    "        else:\n",
    "            print(f\"Item with ID {item_id} not found.\")\n",
    "\n",
    "inventory = Inventory()\n",
    "\n",
    "while True:\n",
    "    choice = int(input(\"\\n1. Add Item\\n2. Update Item\\n3. Check Item Details\\n4. Exit\\nChoose an option: \"))\n",
    "    \n",
    "    if choice == 1:\n",
    "        item_id = int(input(\"Enter Item ID: \"))\n",
    "        item_name = input(\"Enter Item Name: \")\n",
    "        stock_count = int(input(\"Enter Stock Count: \"))\n",
    "        price = float(input(\"Enter Price: \"))\n",
    "        inventory.add_item(item_id, item_name, stock_count, price)\n",
    "\n",
    "    elif choice == 2:\n",
    "        item_id = int(input(\"Enter Item ID to update: \"))\n",
    "        item_name = input(\"Enter new Item Name (leave blank to keep current): \")\n",
    "        stock_count = input(\"Enter new Stock Count (leave blank to keep current): \")\n",
    "        price = input(\"Enter new Price (leave blank to keep current): \")\n",
    "        inventory.update_item(item_id, item_name or None, int(stock_count) if stock_count else None, float(price) if price else None)\n",
    "\n",
    "    elif choice == 3:\n",
    "        item_id = int(input(\"Enter Item ID to check details: \"))\n",
    "        inventory.check_item_details(item_id)\n",
    "\n",
    "    elif choice == 4:\n",
    "        break\n",
    "\n",
    "    else:\n",
    "        print(\"Invalid choice!\")"
   ]
  },
  {
   "cell_type": "code",
   "execution_count": 5,
   "id": "5fd15b6a-8f82-44d1-9ecc-039d0f90cf40",
   "metadata": {},
   "outputs": [
    {
     "name": "stdout",
     "output_type": "stream",
     "text": [
      "\n",
      "1. Add Item to Menu\n",
      "2. Book Table\n",
      "3. Take Customer Order\n",
      "4. Print Menu\n",
      "5. Print Table Reservations\n",
      "6. Print Customer Orders\n",
      "7. Exit\n"
     ]
    },
    {
     "name": "stdin",
     "output_type": "stream",
     "text": [
      "Choose an option (1-7):  1\n",
      "Enter Item ID:  101\n",
      "Enter Item Name:  Pasta\n",
      "Enter Item Price:  450\n"
     ]
    },
    {
     "name": "stdout",
     "output_type": "stream",
     "text": [
      "\n",
      "1. Add Item to Menu\n",
      "2. Book Table\n",
      "3. Take Customer Order\n",
      "4. Print Menu\n",
      "5. Print Table Reservations\n",
      "6. Print Customer Orders\n",
      "7. Exit\n"
     ]
    },
    {
     "name": "stdin",
     "output_type": "stream",
     "text": [
      "Choose an option (1-7):  1\n",
      "Enter Item ID:  102\n",
      "Enter Item Name:  Pizza\n",
      "Enter Item Price:  329\n"
     ]
    },
    {
     "name": "stdout",
     "output_type": "stream",
     "text": [
      "\n",
      "1. Add Item to Menu\n",
      "2. Book Table\n",
      "3. Take Customer Order\n",
      "4. Print Menu\n",
      "5. Print Table Reservations\n",
      "6. Print Customer Orders\n",
      "7. Exit\n"
     ]
    },
    {
     "name": "stdin",
     "output_type": "stream",
     "text": [
      "Choose an option (1-7):  2\n",
      "Enter Table Number:  3\n",
      "Enter Customer Name:  Devanshi Saraf\n"
     ]
    },
    {
     "name": "stdout",
     "output_type": "stream",
     "text": [
      "\n",
      "1. Add Item to Menu\n",
      "2. Book Table\n",
      "3. Take Customer Order\n",
      "4. Print Menu\n",
      "5. Print Table Reservations\n",
      "6. Print Customer Orders\n",
      "7. Exit\n"
     ]
    },
    {
     "name": "stdin",
     "output_type": "stream",
     "text": [
      "Choose an option (1-7):  3\n",
      "Enter Table Number for Order:  3\n",
      "Enter Item IDs separated by space:  101 102\n"
     ]
    },
    {
     "name": "stdout",
     "output_type": "stream",
     "text": [
      "\n",
      "1. Add Item to Menu\n",
      "2. Book Table\n",
      "3. Take Customer Order\n",
      "4. Print Menu\n",
      "5. Print Table Reservations\n",
      "6. Print Customer Orders\n",
      "7. Exit\n"
     ]
    },
    {
     "name": "stdin",
     "output_type": "stream",
     "text": [
      "Choose an option (1-7):  4\n"
     ]
    },
    {
     "name": "stdout",
     "output_type": "stream",
     "text": [
      "\n",
      "Menu Items:\n",
      "101. Pasta - $450.0\n",
      "102. Pizza - $329.0\n",
      "\n",
      "1. Add Item to Menu\n",
      "2. Book Table\n",
      "3. Take Customer Order\n",
      "4. Print Menu\n",
      "5. Print Table Reservations\n",
      "6. Print Customer Orders\n",
      "7. Exit\n"
     ]
    },
    {
     "name": "stdin",
     "output_type": "stream",
     "text": [
      "Choose an option (1-7):  5\n"
     ]
    },
    {
     "name": "stdout",
     "output_type": "stream",
     "text": [
      "\n",
      "Table Reservations:\n",
      "Table 3 reserved for Devanshi Saraf.\n",
      "\n",
      "1. Add Item to Menu\n",
      "2. Book Table\n",
      "3. Take Customer Order\n",
      "4. Print Menu\n",
      "5. Print Table Reservations\n",
      "6. Print Customer Orders\n",
      "7. Exit\n"
     ]
    },
    {
     "name": "stdin",
     "output_type": "stream",
     "text": [
      "Choose an option (1-7):  6\n"
     ]
    },
    {
     "name": "stdout",
     "output_type": "stream",
     "text": [
      "\n",
      "Customer Orders:\n",
      "Table 3:\n",
      "- Pasta - $450.0\n",
      "- Pizza - $329.0\n",
      "Total Price: $779.0\n",
      "\n",
      "1. Add Item to Menu\n",
      "2. Book Table\n",
      "3. Take Customer Order\n",
      "4. Print Menu\n",
      "5. Print Table Reservations\n",
      "6. Print Customer Orders\n",
      "7. Exit\n"
     ]
    },
    {
     "name": "stdin",
     "output_type": "stream",
     "text": [
      "Choose an option (1-7):  7\n"
     ]
    },
    {
     "name": "stdout",
     "output_type": "stream",
     "text": [
      "Exiting...\n"
     ]
    }
   ],
   "source": [
    "class Restaurant:\n",
    "    def __init__(self):\n",
    "        self.menu_items = {}\n",
    "        self.booked_tables = []\n",
    "        self.customer_orders = {}\n",
    "\n",
    "    def add_item_to_menu(self):\n",
    "        item_id = int(input(\"Enter Item ID: \"))\n",
    "        item_name = input(\"Enter Item Name: \")\n",
    "        price = float(input(\"Enter Item Price: \"))\n",
    "        self.menu_items[item_id] = {'item_name': item_name, 'price': price}\n",
    "\n",
    "    def book_table(self):\n",
    "        table_number = int(input(\"Enter Table Number: \"))\n",
    "        customer_name = input(\"Enter Customer Name: \")\n",
    "        if table_number not in [table['table_number'] for table in self.booked_tables]:\n",
    "            self.booked_tables.append({'table_number': table_number, 'customer_name': customer_name})\n",
    "        else:\n",
    "            print(f\"Table {table_number} is already booked.\")\n",
    "\n",
    "    def customer_order(self):\n",
    "        table_number = int(input(\"Enter Table Number for Order: \"))\n",
    "        if any(table['table_number'] == table_number for table in self.booked_tables):\n",
    "            order_ids = list(map(int, input(\"Enter Item IDs separated by space: \").split()))\n",
    "            order_details = [{'item_name': self.menu_items[item_id]['item_name'], 'price': self.menu_items[item_id]['price']} \n",
    "                             for item_id in order_ids if item_id in self.menu_items]\n",
    "            total_price = sum(item['price'] for item in order_details)\n",
    "            self.customer_orders[table_number] = {'order_details': order_details, 'total_price': total_price}\n",
    "        else:\n",
    "            print(f\"Table {table_number} is not reserved.\")\n",
    "\n",
    "    def print_menu(self):\n",
    "        print(\"\\nMenu Items:\")\n",
    "        for item_id, details in self.menu_items.items():\n",
    "            print(f\"{item_id}. {details['item_name']} - ${details['price']}\")\n",
    "\n",
    "    def print_table_reservations(self):\n",
    "        print(\"\\nTable Reservations:\")\n",
    "        for table in self.booked_tables:\n",
    "            print(f\"Table {table['table_number']} reserved for {table['customer_name']}.\")\n",
    "\n",
    "    def print_customer_orders(self):\n",
    "        print(\"\\nCustomer Orders:\")\n",
    "        for table_number, order in self.customer_orders.items():\n",
    "            print(f\"Table {table_number}:\")\n",
    "            for item in order['order_details']:\n",
    "                print(f\"- {item['item_name']} - ${item['price']}\")\n",
    "            print(f\"Total Price: ${order['total_price']}\")\n",
    "\n",
    "restaurant = Restaurant()\n",
    "\n",
    "while True:\n",
    "    print(\"\\n1. Add Item to Menu\")\n",
    "    print(\"2. Book Table\")\n",
    "    print(\"3. Take Customer Order\")\n",
    "    print(\"4. Print Menu\")\n",
    "    print(\"5. Print Table Reservations\")\n",
    "    print(\"6. Print Customer Orders\")\n",
    "    print(\"7. Exit\")\n",
    "    \n",
    "    choice = int(input(\"Choose an option (1-7): \"))\n",
    "    \n",
    "    if choice == 1:\n",
    "        restaurant.add_item_to_menu()\n",
    "    elif choice == 2:\n",
    "        restaurant.book_table()\n",
    "    elif choice == 3:\n",
    "        restaurant.customer_order()\n",
    "    elif choice == 4:\n",
    "        restaurant.print_menu()\n",
    "    elif choice == 5:\n",
    "        restaurant.print_table_reservations()\n",
    "    elif choice == 6:\n",
    "        restaurant.print_customer_orders()\n",
    "    elif choice == 7:\n",
    "        print(\"Exiting...\")\n",
    "        break\n",
    "    else:\n",
    "        print(\"Invalid choice! Please select a valid option.\")"
   ]
  },
  {
   "cell_type": "code",
   "execution_count": null,
   "id": "d4a240ae-18c0-44b4-af44-ec6bdf88dd13",
   "metadata": {},
   "outputs": [],
   "source": []
  }
 ],
 "metadata": {
  "kernelspec": {
   "display_name": "Python 3 (ipykernel)",
   "language": "python",
   "name": "python3"
  },
  "language_info": {
   "codemirror_mode": {
    "name": "ipython",
    "version": 3
   },
   "file_extension": ".py",
   "mimetype": "text/x-python",
   "name": "python",
   "nbconvert_exporter": "python",
   "pygments_lexer": "ipython3",
   "version": "3.12.2"
  }
 },
 "nbformat": 4,
 "nbformat_minor": 5
}

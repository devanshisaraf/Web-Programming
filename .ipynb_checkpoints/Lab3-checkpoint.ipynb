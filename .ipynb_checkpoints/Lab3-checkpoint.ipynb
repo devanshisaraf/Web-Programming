{
 "cells": [
  {
   "cell_type": "code",
   "execution_count": 4,
   "id": "e40eb1df-fda4-41e6-983c-1323d7e41071",
   "metadata": {},
   "outputs": [
    {
     "name": "stdin",
     "output_type": "stream",
     "text": [
      "Enter numbers:  58 41 11 65 33 98 25 10 74\n"
     ]
    },
    {
     "name": "stdout",
     "output_type": "stream",
     "text": [
      "Mean: 46.111111111111114, Variance: 794.320987654321, Std Dev: 28.183700744478553\n"
     ]
    }
   ],
   "source": [
    "import math\n",
    "nums = list(map(int, input(\"Enter numbers: \").split()))\n",
    "mean = sum(nums) / len(nums)\n",
    "variance = sum((x - mean) ** 2 for x in nums) / len(nums)\n",
    "std_dev = math.sqrt(variance)\n",
    "print(f\"Mean: {mean}, Variance: {variance}, Std Dev: {std_dev}\")"
   ]
  },
  {
   "cell_type": "code",
   "execution_count": 3,
   "id": "1f88a543-331c-4bf3-b7bc-1e793ca29530",
   "metadata": {},
   "outputs": [
    {
     "name": "stdin",
     "output_type": "stream",
     "text": [
      "Name:  Devanshi Saraf\n",
      "Roll:  3\n",
      "Dept:  CSE\n",
      "Addr:  Kolkata\n",
      "Gender:  F\n",
      "Marks:  95\n",
      "Do you want to enter details of more students? (Y/N): Y\n",
      "Name:  Aditi Talpallikar\n",
      "Roll:  25\n",
      "Dept:  IT\n",
      "Addr:  Hyderabad\n",
      "Gender:  F\n",
      "Marks:  96\n",
      "Do you want to enter details of more students? (Y/N): n\n"
     ]
    },
    {
     "name": "stdout",
     "output_type": "stream",
     "text": [
      "\n",
      "Name: Devanshi Saraf, Roll: 3, Dept: CSE, Addr: Kolkata, Gender: F, Total: 95, Percentage: 3166.666666666667%\n",
      "\n",
      "Name: Aditi Talpallikar, Roll: 25, Dept: IT, Addr: Hyderabad, Gender: F, Total: 96, Percentage: 3200.0%\n",
      "Max Marks: Aditi Talpallikar, Min Marks: Devanshi Saraf, Fails: None\n"
     ]
    }
   ],
   "source": [
    "students = [{\n",
    "    \"name\": input(\"Enter Name: \"),\n",
    "    \"roll_no\": input(\"Enter Roll No: \"),\n",
    "    \"dept\": input(\"Enter Department: \"),\n",
    "    \"address\": input(\"Enter Address: \"),\n",
    "    \"gender\": input(\"Enter Gender (M/F): \"),\n",
    "    \"marks\": [float(input(f\"Enter marks for subject {i+1}: \")) for i in range(3)]\n",
    "} for _ in range(int(input(\"Enter number of students: \")))]\n",
    "\n",
    "for s in students:\n",
    "    s[\"total\"] = sum(s[\"marks\"])\n",
    "    s[\"percentage\"] = s[\"total\"] / 3\n",
    "\n",
    "for s in students:\n",
    "    print(f\"\\nName: {s['name']}, Roll No: {s['roll_no']}, Dept: {s['dept']}, Address: {s['address']}, \"\n",
    "          f\"Gender: {s['gender']}, Marks: {s['marks']}, Total: {s['total']}, Percentage: {s['percentage']:.2f}%\")\n",
    "\n",
    "max_student = max(students, key=lambda s: s[\"total\"])\n",
    "min_student = min(students, key=lambda s: s[\"total\"])\n",
    "fail_students = [s[\"name\"] for s in students if any(m < 10 for m in s[\"marks\"])]\n",
    "\n",
    "print(f\"\\nTop Scorer: {max_student['name']} ({max_student['total']} marks)\")\n",
    "print(f\"Lowest Scorer: {min_student['name']} ({min_student['total']} marks)\")\n",
    "print(f\"Failing Students: {', '.join(fail_students) if fail_students else 'None'}\")\n"
   ]
  },
  {
   "cell_type": "code",
   "execution_count": null,
   "id": "5b55982d-4cb5-4ead-9620-a3e67b0a5975",
   "metadata": {},
   "outputs": [],
   "source": []
  }
 ],
 "metadata": {
  "kernelspec": {
   "display_name": "Python 3 (ipykernel)",
   "language": "python",
   "name": "python3"
  },
  "language_info": {
   "codemirror_mode": {
    "name": "ipython",
    "version": 3
   },
   "file_extension": ".py",
   "mimetype": "text/x-python",
   "name": "python",
   "nbconvert_exporter": "python",
   "pygments_lexer": "ipython3",
   "version": "3.12.2"
  }
 },
 "nbformat": 4,
 "nbformat_minor": 5
}
